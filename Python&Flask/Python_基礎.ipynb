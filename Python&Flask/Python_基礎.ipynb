{
  "nbformat": 4,
  "nbformat_minor": 0,
  "metadata": {
    "colab": {
      "name": "Python_基礎",
      "provenance": [],
      "toc_visible": true,
      "authorship_tag": "ABX9TyMjsvLhoE7cDJHx6zbLimd6",
      "include_colab_link": true
    },
    "kernelspec": {
      "name": "python3",
      "display_name": "Python 3"
    },
    "language_info": {
      "name": "python"
    }
  },
  "cells": [
    {
      "cell_type": "markdown",
      "metadata": {
        "id": "view-in-github",
        "colab_type": "text"
      },
      "source": [
        "<a href=\"https://colab.research.google.com/github/Whaleman0423/Tibame/blob/main/Python%26Flask/Python_%E5%9F%BA%E7%A4%8E.ipynb\" target=\"_parent\"><img src=\"https://colab.research.google.com/assets/colab-badge.svg\" alt=\"Open In Colab\"/></a>"
      ]
    },
    {
      "cell_type": "code",
      "source": [
        "# 井字號 -> 用來下註解"
      ],
      "metadata": {
        "id": "K5jnoX9MFSLH"
      },
      "execution_count": null,
      "outputs": []
    },
    {
      "cell_type": "code",
      "execution_count": 1,
      "metadata": {
        "colab": {
          "base_uri": "https://localhost:8080/"
        },
        "id": "N_-Hl8-SEtc_",
        "outputId": "a78e4ecc-5b37-4410-9ece-904caaa1ac5f"
      },
      "outputs": [
        {
          "output_type": "stream",
          "name": "stdout",
          "text": [
            "\n",
            "Here is a list of the Python keywords.  Enter any keyword to get more help.\n",
            "\n",
            "False               class               from                or\n",
            "None                continue            global              pass\n",
            "True                def                 if                  raise\n",
            "and                 del                 import              return\n",
            "as                  elif                in                  try\n",
            "assert              else                is                  while\n",
            "async               except              lambda              with\n",
            "await               finally             nonlocal            yield\n",
            "break               for                 not                 \n",
            "\n"
          ]
        }
      ],
      "source": [
        "# 查詢保留字\n",
        "help(\"keywords\")"
      ]
    },
    {
      "cell_type": "code",
      "source": [
        "# 布林值 True or False\n",
        "print(\"如果 True 是布林值則回傳True：\"+ str(isinstance(True, bool))) \n",
        "print(\"如果 7 是整數則回傳True：\"+ str(isinstance(7, int))) \n",
        "print(\"如果 '7' 是整數則回傳True：\"+ str(isinstance('7', int))) \n",
        "print(\"如果 0.01 是小數則回傳True：\"+ str(isinstance(0.01, float))) \n",
        "print(\"如果 '天空' 是字串則回傳True：\"+ str(isinstance('天空', str))) \n",
        "print(\"如果 [1, '人', 0.1] 是清單則回傳True：\"+ str(isinstance([1, '人', 0.1], list))) \n",
        "print(\"如果 (1, '人', 0.1) 是元組則回傳True：\"+ str(isinstance((1, '人', 0.1), tuple))) \n",
        "print(\"如果 set([1, 2, 3]) 是集合則回傳True：\"+ str(isinstance(set([1, 2, 3, '人']), set))) \n",
        "print(\"如果 {'name': 'Jack', 'gender': 'male', 'id': '1'} 是字典則回傳True：\"+ str(isinstance({'name': 'Jack', 'gender': 'male', 'id': '1'}, dict))) "
      ],
      "metadata": {
        "colab": {
          "base_uri": "https://localhost:8080/"
        },
        "id": "erDdu6LOFdgF",
        "outputId": "2b774035-63e7-4036-b8b4-c712191ad92f"
      },
      "execution_count": 2,
      "outputs": [
        {
          "output_type": "stream",
          "name": "stdout",
          "text": [
            "如果 True 是布林值則回傳True：True\n",
            "如果 7 是整數則回傳True：True\n",
            "如果 '7' 是整數則回傳True：False\n",
            "如果 0.01 是小數則回傳True：True\n",
            "如果 '天空' 是字串則回傳True：True\n",
            "如果 [1, '人', 0.1] 是清單則回傳True：True\n",
            "如果 (1, '人', 0.1) 是元組則回傳True：True\n",
            "如果 set([1, 2, 3]) 是集合則回傳True：True\n",
            "如果 {'name': 'Jack', 'gender': 'male', 'id': '1'} 是字典則回傳True：True\n"
          ]
        }
      ]
    },
    {
      "cell_type": "code",
      "source": [
        "# 賦值 - 複製 - 不可變\n",
        "x = 7\n",
        "y = x\n",
        "x = 10\n",
        "print(y)"
      ],
      "metadata": {
        "colab": {
          "base_uri": "https://localhost:8080/"
        },
        "id": "pL2gzZpZ5ES1",
        "outputId": "0badb220-5080-4fe6-d052-e81495eafbc3"
      },
      "execution_count": 3,
      "outputs": [
        {
          "output_type": "stream",
          "name": "stdout",
          "text": [
            "7\n"
          ]
        }
      ]
    },
    {
      "cell_type": "code",
      "source": [
        "# 賦值 - 複製 - 可變\n",
        "x = [1, 2, 3]\n",
        "y = x\n",
        "x[0] = 999\n",
        "print(y)"
      ],
      "metadata": {
        "colab": {
          "base_uri": "https://localhost:8080/"
        },
        "id": "FMhDGB7x5WZ_",
        "outputId": "92652325-eb70-422d-95ba-29d1bc46450e"
      },
      "execution_count": 4,
      "outputs": [
        {
          "output_type": "stream",
          "name": "stdout",
          "text": [
            "[999, 2, 3]\n"
          ]
        }
      ]
    },
    {
      "cell_type": "code",
      "source": [
        "# 透過 bool() 函數轉換成布林值\n",
        "# 非值為 0 或非 Flase 的值都將視為 True\n",
        "print(bool(True))\n",
        "print(bool(1))\n",
        "print(bool(999))\n",
        "print(bool(-50))"
      ],
      "metadata": {
        "id": "9AjIZ7ue6clk",
        "outputId": "7a256ca1-71cc-437b-9085-b05af2fdf38d",
        "colab": {
          "base_uri": "https://localhost:8080/"
        }
      },
      "execution_count": 5,
      "outputs": [
        {
          "output_type": "stream",
          "name": "stdout",
          "text": [
            "True\n",
            "True\n",
            "True\n",
            "True\n"
          ]
        }
      ]
    },
    {
      "cell_type": "code",
      "source": [
        "# 透過 bool() 函數轉換成布林值\n",
        "# 值為 0 或 Flase 的值都將視為 Flase\n",
        "print(bool(False))\n",
        "print(bool(0))\n",
        "print(bool(0.0))"
      ],
      "metadata": {
        "id": "6c2L1rYY63Xe",
        "outputId": "e51ef4ae-3ebe-4ef0-a208-cf8931cca459",
        "colab": {
          "base_uri": "https://localhost:8080/"
        }
      },
      "execution_count": 6,
      "outputs": [
        {
          "output_type": "stream",
          "name": "stdout",
          "text": [
            "False\n",
            "False\n",
            "False\n"
          ]
        }
      ]
    },
    {
      "cell_type": "code",
      "source": [
        "# 整數運算\n",
        "# + 加\n",
        "print(10+5)\n",
        "# - 減\n",
        "print(10-5)\n",
        "# * 乘\n",
        "print(10*5)\n",
        "# / 除\n",
        "print(10/5)\n",
        "# // 除，留下商，捨去餘數\n",
        "print(7//2)\n",
        "# % 除後的餘數\n",
        "print(7%2)\n",
        "# ** 次方\n",
        "print(10**5)"
      ],
      "metadata": {
        "id": "0bpxnvfP7M7i",
        "outputId": "947c0508-5f3b-485f-8ccb-fa34c1554abb",
        "colab": {
          "base_uri": "https://localhost:8080/"
        }
      },
      "execution_count": 10,
      "outputs": [
        {
          "output_type": "stream",
          "name": "stdout",
          "text": [
            "15\n",
            "5\n",
            "50\n",
            "2.0\n",
            "3\n",
            "1\n",
            "100000\n"
          ]
        }
      ]
    },
    {
      "cell_type": "code",
      "source": [
        ""
      ],
      "metadata": {
        "id": "3tlDBFlf8svI"
      },
      "execution_count": null,
      "outputs": []
    }
  ]
}