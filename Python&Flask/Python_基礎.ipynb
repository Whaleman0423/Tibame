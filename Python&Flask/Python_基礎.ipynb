{
  "nbformat": 4,
  "nbformat_minor": 0,
  "metadata": {
    "colab": {
      "name": "Python_基礎",
      "provenance": [],
      "toc_visible": true,
      "authorship_tag": "ABX9TyMBv92Ko0j+lNkBwUbk+tak",
      "include_colab_link": true
    },
    "kernelspec": {
      "name": "python3",
      "display_name": "Python 3"
    },
    "language_info": {
      "name": "python"
    }
  },
  "cells": [
    {
      "cell_type": "markdown",
      "metadata": {
        "id": "view-in-github",
        "colab_type": "text"
      },
      "source": [
        "<a href=\"https://colab.research.google.com/github/Whaleman0423/Tibame/blob/main/Python%26Flask/Python_%E5%9F%BA%E7%A4%8E.ipynb\" target=\"_parent\"><img src=\"https://colab.research.google.com/assets/colab-badge.svg\" alt=\"Open In Colab\"/></a>"
      ]
    },
    {
      "cell_type": "code",
      "source": [
        "# 井字號 -> 用來下註解"
      ],
      "metadata": {
        "id": "K5jnoX9MFSLH"
      },
      "execution_count": null,
      "outputs": []
    },
    {
      "cell_type": "markdown",
      "source": [
        "## 保留字"
      ],
      "metadata": {
        "id": "4Snjgv0MH6z0"
      }
    },
    {
      "cell_type": "code",
      "execution_count": 1,
      "metadata": {
        "colab": {
          "base_uri": "https://localhost:8080/"
        },
        "id": "N_-Hl8-SEtc_",
        "outputId": "a78e4ecc-5b37-4410-9ece-904caaa1ac5f"
      },
      "outputs": [
        {
          "output_type": "stream",
          "name": "stdout",
          "text": [
            "\n",
            "Here is a list of the Python keywords.  Enter any keyword to get more help.\n",
            "\n",
            "False               class               from                or\n",
            "None                continue            global              pass\n",
            "True                def                 if                  raise\n",
            "and                 del                 import              return\n",
            "as                  elif                in                  try\n",
            "assert              else                is                  while\n",
            "async               except              lambda              with\n",
            "await               finally             nonlocal            yield\n",
            "break               for                 not                 \n",
            "\n"
          ]
        }
      ],
      "source": [
        "# 查詢保留字\n",
        "help(\"keywords\")"
      ]
    },
    {
      "cell_type": "markdown",
      "source": [
        "## 認識型態、值、變數與名稱"
      ],
      "metadata": {
        "id": "-IND1No5H_gz"
      }
    },
    {
      "cell_type": "code",
      "source": [
        "# 布林值 True or False\n",
        "print(\"如果 True 是布林值則回傳True：\"+ str(isinstance(True, bool))) \n",
        "print(\"如果 7 是整數則回傳True：\"+ str(isinstance(7, int))) \n",
        "print(\"如果 '7' 是整數則回傳True：\"+ str(isinstance('7', int))) \n",
        "print(\"如果 0.01 是小數則回傳True：\"+ str(isinstance(0.01, float))) \n",
        "print(\"如果 '天空' 是字串則回傳True：\"+ str(isinstance('天空', str))) \n",
        "print(\"如果 [1, '人', 0.1] 是清單則回傳True：\"+ str(isinstance([1, '人', 0.1], list))) \n",
        "print(\"如果 (1, '人', 0.1) 是元組則回傳True：\"+ str(isinstance((1, '人', 0.1), tuple))) \n",
        "print(\"如果 set([1, 2, 3]) 是集合則回傳True：\"+ str(isinstance(set([1, 2, 3, '人']), set))) \n",
        "print(\"如果 {'name': 'Jack', 'gender': 'male', 'id': '1'} 是字典則回傳True：\"+ str(isinstance({'name': 'Jack', 'gender': 'male', 'id': '1'}, dict))) "
      ],
      "metadata": {
        "colab": {
          "base_uri": "https://localhost:8080/"
        },
        "id": "erDdu6LOFdgF",
        "outputId": "2b774035-63e7-4036-b8b4-c712191ad92f"
      },
      "execution_count": 2,
      "outputs": [
        {
          "output_type": "stream",
          "name": "stdout",
          "text": [
            "如果 True 是布林值則回傳True：True\n",
            "如果 7 是整數則回傳True：True\n",
            "如果 '7' 是整數則回傳True：False\n",
            "如果 0.01 是小數則回傳True：True\n",
            "如果 '天空' 是字串則回傳True：True\n",
            "如果 [1, '人', 0.1] 是清單則回傳True：True\n",
            "如果 (1, '人', 0.1) 是元組則回傳True：True\n",
            "如果 set([1, 2, 3]) 是集合則回傳True：True\n",
            "如果 {'name': 'Jack', 'gender': 'male', 'id': '1'} 是字典則回傳True：True\n"
          ]
        }
      ]
    },
    {
      "cell_type": "code",
      "source": [
        "# 賦值 - 複製 - 不可變\n",
        "x = 7\n",
        "y = x\n",
        "x = 10\n",
        "print(y)"
      ],
      "metadata": {
        "colab": {
          "base_uri": "https://localhost:8080/"
        },
        "id": "pL2gzZpZ5ES1",
        "outputId": "0badb220-5080-4fe6-d052-e81495eafbc3"
      },
      "execution_count": 3,
      "outputs": [
        {
          "output_type": "stream",
          "name": "stdout",
          "text": [
            "7\n"
          ]
        }
      ]
    },
    {
      "cell_type": "code",
      "source": [
        "# 賦值 - 複製 - 可變\n",
        "x = [1, 2, 3]\n",
        "y = x\n",
        "x[0] = 999\n",
        "print(y)"
      ],
      "metadata": {
        "colab": {
          "base_uri": "https://localhost:8080/"
        },
        "id": "FMhDGB7x5WZ_",
        "outputId": "92652325-eb70-422d-95ba-29d1bc46450e"
      },
      "execution_count": 4,
      "outputs": [
        {
          "output_type": "stream",
          "name": "stdout",
          "text": [
            "[999, 2, 3]\n"
          ]
        }
      ]
    },
    {
      "cell_type": "code",
      "source": [
        "# 透過 bool() 函數轉換成布林值\n",
        "# 非值為 0 或非 Flase 的值都將視為 True\n",
        "print(bool(True))\n",
        "print(bool(1))\n",
        "print(bool(999))\n",
        "print(bool(-50))"
      ],
      "metadata": {
        "colab": {
          "base_uri": "https://localhost:8080/"
        },
        "id": "9AjIZ7ue6clk",
        "outputId": "7a256ca1-71cc-437b-9085-b05af2fdf38d"
      },
      "execution_count": 5,
      "outputs": [
        {
          "output_type": "stream",
          "name": "stdout",
          "text": [
            "True\n",
            "True\n",
            "True\n",
            "True\n"
          ]
        }
      ]
    },
    {
      "cell_type": "code",
      "source": [
        "# 透過 bool() 函數轉換成布林值\n",
        "# 值為 0 或 Flase 的值都將視為 Flase\n",
        "print(bool(False))\n",
        "print(bool(0))\n",
        "print(bool(0.0))"
      ],
      "metadata": {
        "colab": {
          "base_uri": "https://localhost:8080/"
        },
        "id": "6c2L1rYY63Xe",
        "outputId": "e51ef4ae-3ebe-4ef0-a208-cf8931cca459"
      },
      "execution_count": 6,
      "outputs": [
        {
          "output_type": "stream",
          "name": "stdout",
          "text": [
            "False\n",
            "False\n",
            "False\n"
          ]
        }
      ]
    },
    {
      "cell_type": "code",
      "source": [
        "# 整數運算\n",
        "# + 加\n",
        "print(10+5)\n",
        "# - 減\n",
        "print(10-5)\n",
        "# * 乘\n",
        "print(10*5)\n",
        "# / 除\n",
        "print(10/5)\n",
        "# // 除，留下商，捨去餘數\n",
        "print(7//2)\n",
        "# % 除後的餘數\n",
        "print(7%2)\n",
        "# ** 次方\n",
        "print(10**5)"
      ],
      "metadata": {
        "colab": {
          "base_uri": "https://localhost:8080/"
        },
        "id": "0bpxnvfP7M7i",
        "outputId": "947c0508-5f3b-485f-8ccb-fa34c1554abb"
      },
      "execution_count": 10,
      "outputs": [
        {
          "output_type": "stream",
          "name": "stdout",
          "text": [
            "15\n",
            "5\n",
            "50\n",
            "2.0\n",
            "3\n",
            "1\n",
            "100000\n"
          ]
        }
      ]
    },
    {
      "cell_type": "code",
      "source": [
        "a = 6\n",
        "if a == 5:\n",
        "  print(\"a is 5\")\n",
        "elif a != 5:\n",
        "  print(\"a is not 6\")"
      ],
      "metadata": {
        "colab": {
          "base_uri": "https://localhost:8080/"
        },
        "id": "3tlDBFlf8svI",
        "outputId": "8b6eebc7-d5bd-4216-e09f-a6e1962143bf"
      },
      "execution_count": 12,
      "outputs": [
        {
          "output_type": "stream",
          "name": "stdout",
          "text": [
            "a is not 6\n"
          ]
        }
      ]
    },
    {
      "cell_type": "code",
      "source": [
        "# 運算子\n",
        "# ==，是否相等\n",
        "print(7 == 5)\n",
        "print(7 == 7)\n",
        "# !=，是否不相等\n",
        "print(7 != 5)\n",
        "print(7 != 7)\n",
        "# <，是否小於\n",
        "print(7 < 5)\n",
        "print(7 < 7)\n",
        "# <=，是否小於等於\n",
        "print(7 <= 5)\n",
        "print(7 <= 7)\n",
        "# >，是否大於\n",
        "print(7 > 5)\n",
        "print(7 > 7)\n",
        "# >=，是否大於等於\n",
        "print(7 >= 5)\n",
        "print(7 >= 7)\n"
      ],
      "metadata": {
        "id": "1ZUo41bz_MH1",
        "outputId": "01b9a66e-60a0-483e-d32e-f29f795e6e04",
        "colab": {
          "base_uri": "https://localhost:8080/"
        }
      },
      "execution_count": 13,
      "outputs": [
        {
          "output_type": "stream",
          "name": "stdout",
          "text": [
            "False\n",
            "True\n",
            "True\n",
            "False\n",
            "False\n",
            "False\n",
            "False\n",
            "True\n",
            "True\n",
            "False\n",
            "True\n",
            "True\n"
          ]
        }
      ]
    },
    {
      "cell_type": "markdown",
      "source": [
        "## 假如有如果"
      ],
      "metadata": {
        "id": "j2wtEjW6IHny"
      }
    },
    {
      "cell_type": "code",
      "source": [
        "# 判斷小明是否為渣男\n",
        "ming = \"渣男\"\n",
        "print(ming == \"渣男\")\n",
        "if ming == \"渣男\":\n",
        "  print(\"小明是渣男\")"
      ],
      "metadata": {
        "id": "UwqIYXhq_-cR",
        "outputId": "33ee1c59-f1bc-4faf-8e06-e106e228718c",
        "colab": {
          "base_uri": "https://localhost:8080/"
        }
      },
      "execution_count": 14,
      "outputs": [
        {
          "output_type": "stream",
          "name": "stdout",
          "text": [
            "True\n",
            "小明是渣男\n"
          ]
        }
      ]
    },
    {
      "cell_type": "code",
      "source": [
        "# 判斷小王是否為直男\n",
        "wang = \"直男\"\n",
        "print(wang != \"直男\")\n",
        "if wang != \"直男\":\n",
        "  print(\"小王不是直男\")\n",
        "else:\n",
        "  print(\"小王是直男\")"
      ],
      "metadata": {
        "id": "w1Zk13dTAhs-",
        "outputId": "379e7802-5aa3-4113-a0e9-7a03381fb34e",
        "colab": {
          "base_uri": "https://localhost:8080/"
        }
      },
      "execution_count": 15,
      "outputs": [
        {
          "output_type": "stream",
          "name": "stdout",
          "text": [
            "False\n",
            "小王是直男\n"
          ]
        }
      ]
    },
    {
      "cell_type": "code",
      "source": [
        "# 多判斷\n",
        "ming = \"渣男\"\n",
        "wang = \"直男\"\n",
        "if ming == \"直男\":\n",
        "  print(\"小明是直男\")\n",
        "elif ming == \"渣男\":\n",
        "  print(\"小明是渣男\")\n",
        "elif wang == \"直男\":\n",
        "  print(\"小王是直男\")\n",
        "elif wang == \"渣男\":\n",
        "  print(\"小王是渣男\")\n",
        "else:\n",
        "  print(\"以上條件皆未達到，小明小王不是直男也不是渣男\")"
      ],
      "metadata": {
        "id": "SYkgjymbBPjO",
        "outputId": "0674a2be-db91-422e-96ff-776171eb4650",
        "colab": {
          "base_uri": "https://localhost:8080/"
        }
      },
      "execution_count": 16,
      "outputs": [
        {
          "output_type": "stream",
          "name": "stdout",
          "text": [
            "小明是渣男\n"
          ]
        }
      ]
    },
    {
      "cell_type": "code",
      "source": [
        "# 使用 in 進行多項比較\n",
        "# 用清單來記錄小明的特質\n",
        "ming_attributes = [\"愛劈腿\", \"貪吃\", \"愛玩\", \"懶惰\", \"不要臉\"]\n",
        "if \"愛劈腿\" in ming_attributes:\n",
        "  print(\"小明是渣男\")\n",
        "\n",
        "# in 可用於 str、list、dict、set、tupple..."
      ],
      "metadata": {
        "id": "OYlWJ4iGDeiq",
        "outputId": "4c9053a6-e550-431d-fc40-79cd3c0fde25",
        "colab": {
          "base_uri": "https://localhost:8080/"
        }
      },
      "execution_count": 18,
      "outputs": [
        {
          "output_type": "stream",
          "name": "stdout",
          "text": [
            "小明是渣男\n"
          ]
        }
      ]
    },
    {
      "cell_type": "markdown",
      "source": [
        "## 重複的事，交給迴圈"
      ],
      "metadata": {
        "id": "ynkS8ILgIMQ4"
      }
    },
    {
      "cell_type": "code",
      "source": [
        "# 重複的事，交給迴圈\n",
        "i = 10\n",
        "while i<20:\n",
        "  print(i)\n",
        "  i += 1"
      ],
      "metadata": {
        "id": "gPtx0ROJGm7V",
        "outputId": "e181c7af-abbe-4fac-dfb6-fb46aff21853",
        "colab": {
          "base_uri": "https://localhost:8080/"
        }
      },
      "execution_count": 23,
      "outputs": [
        {
          "output_type": "stream",
          "name": "stdout",
          "text": [
            "10\n",
            "11\n",
            "12\n",
            "13\n",
            "14\n",
            "15\n",
            "16\n",
            "17\n",
            "18\n",
            "19\n"
          ]
        }
      ]
    },
    {
      "cell_type": "code",
      "source": [
        "# for in 迴圈\n",
        "for x in 'abcdefghi':\n",
        "  print(x)"
      ],
      "metadata": {
        "id": "EDJpsczZHDHE",
        "outputId": "5ea4c51f-b176-458c-9759-1ea4b4bef38a",
        "colab": {
          "base_uri": "https://localhost:8080/"
        }
      },
      "execution_count": 20,
      "outputs": [
        {
          "output_type": "stream",
          "name": "stdout",
          "text": [
            "a\n",
            "b\n",
            "c\n",
            "d\n",
            "e\n",
            "f\n",
            "g\n",
            "h\n",
            "i\n"
          ]
        }
      ]
    },
    {
      "cell_type": "code",
      "source": [
        "# for in 迴圈 - 數字序列版本\n",
        "for y in range(0, 10, 2):\n",
        "  print(\"在黑板寫下%i\"%y)"
      ],
      "metadata": {
        "id": "6C2cmB_iHSfa",
        "outputId": "a75bc4b9-6b6b-46ca-de4f-a0a4e05e58af",
        "colab": {
          "base_uri": "https://localhost:8080/"
        }
      },
      "execution_count": 22,
      "outputs": [
        {
          "output_type": "stream",
          "name": "stdout",
          "text": [
            "在黑板寫下0\n",
            "在黑板寫下2\n",
            "在黑板寫下4\n",
            "在黑板寫下6\n",
            "在黑板寫下8\n"
          ]
        }
      ]
    }
  ]
}